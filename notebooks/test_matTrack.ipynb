{
 "cells": [
  {
   "cell_type": "code",
   "execution_count": 1,
   "metadata": {},
   "outputs": [
    {
     "name": "stderr",
     "output_type": "stream",
     "text": [
      "2023-02-23 05:32:39.033859: I tensorflow/core/platform/cpu_feature_guard.cc:193] This TensorFlow binary is optimized with oneAPI Deep Neural Network Library (oneDNN) to use the following CPU instructions in performance-critical operations:  AVX2 FMA\n",
      "To enable them in other operations, rebuild TensorFlow with the appropriate compiler flags.\n"
     ]
    }
   ],
   "source": [
    "import numpy as np\n",
    "from skimage.io import imread, imsave\n",
    "import glob\n",
    "from yeastvision.models.utils import get_bbox_coords\n",
    "from skimage.morphology import skeletonize, opening, dilation, thin\n",
    "import statistics as stats\n",
    "import matplotlib.pyplot as plt\n",
    "from skimage.measure import regionprops"
   ]
  },
  {
   "cell_type": "code",
   "execution_count": 2,
   "metadata": {},
   "outputs": [
    {
     "data": {
      "text/plain": [
       "(101, 101)"
      ]
     },
     "execution_count": 2,
     "metadata": {},
     "output_type": "execute_result"
    }
   ],
   "source": [
    "im_paths = sorted(glob.glob(\"test_images/Pos2_MAT/*000.tif\"))\n",
    "cp_masks_paths = sorted(glob.glob(\"test_images/Pos2_MAT/*masks.tif\"))\n",
    "ims = [imread(p) for p in im_paths]\n",
    "masks = [imread(m) for m in cp_masks_paths]\n",
    "len(ims), len(masks)"
   ]
  },
  {
   "cell_type": "code",
   "execution_count": 3,
   "metadata": {},
   "outputs": [],
   "source": [
    "isMating = True"
   ]
  },
  {
   "cell_type": "code",
   "execution_count": null,
   "metadata": {},
   "outputs": [],
   "source": []
  },
  {
   "cell_type": "code",
   "execution_count": 13,
   "metadata": {},
   "outputs": [
    {
     "data": {
      "text/plain": [
       "99"
      ]
     },
     "execution_count": 13,
     "metadata": {},
     "output_type": "execute_result"
    }
   ],
   "source": [
    "artilife_paths = sorted(glob.glob(\"test_images/Pos2_ARTI/*cp_masks.tif\"))\n",
    "cp_masks = [imread(p) for p in artilife_paths][:99]\n",
    "no_objs = np.max(Matmasks[-1])\n",
    "no_objs, len(cp_masks)\n",
    "len(Matmasks)\n",
    "len(cp_masks)"
   ]
  }
 ],
 "metadata": {
  "kernelspec": {
   "display_name": "budNET",
   "language": "python",
   "name": "python3"
  },
  "language_info": {
   "codemirror_mode": {
    "name": "ipython",
    "version": 3
   },
   "file_extension": ".py",
   "mimetype": "text/x-python",
   "name": "python",
   "nbconvert_exporter": "python",
   "pygments_lexer": "ipython3",
   "version": "3.10.0"
  },
  "orig_nbformat": 4,
  "vscode": {
   "interpreter": {
    "hash": "071dda8518d0af3df4c30fd93ebcd1d372dc4616808d29e48fcd6d0065c4b807"
   }
  }
 },
 "nbformat": 4,
 "nbformat_minor": 2
}
