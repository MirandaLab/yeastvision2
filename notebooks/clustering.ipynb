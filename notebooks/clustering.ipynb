{
 "cells": [
  {
   "cell_type": "code",
   "execution_count": 29,
   "metadata": {},
   "outputs": [],
   "source": [
    "from models.track import trackYeasts, getCellStatistics\n",
    "from models.artilife.model import Artilife\n",
    "from skimage.io import imread\n",
    "from sklearn.cluster import KMeans\n",
    "from cv2 import merge\n",
    "import numpy as np\n",
    "import matplotlib.pyplot as plt"
   ]
  },
  {
   "cell_type": "code",
   "execution_count": 23,
   "metadata": {},
   "outputs": [
    {
     "data": {
      "text/plain": [
       "((10, 520, 692), (10, 520, 692))"
      ]
     },
     "execution_count": 23,
     "metadata": {},
     "output_type": "execute_result"
    }
   ],
   "source": [
    "phase_ims = imread(\"test_images/test_phase.tif\")\n",
    "cp_masks = imread(\"test_images/test_tracked.tif\")\n",
    "#phase_ims = [merge((im,im,im)) for im in phase_ims]\n",
    "#len(phase_ims), phase_ims[0].shape\n",
    "phase_ims.shape, cp_masks.shape"
   ]
  },
  {
   "cell_type": "code",
   "execution_count": 24,
   "metadata": {},
   "outputs": [
    {
     "data": {
      "text/html": [
       "<div>\n",
       "<style scoped>\n",
       "    .dataframe tbody tr th:only-of-type {\n",
       "        vertical-align: middle;\n",
       "    }\n",
       "\n",
       "    .dataframe tbody tr th {\n",
       "        vertical-align: top;\n",
       "    }\n",
       "\n",
       "    .dataframe thead th {\n",
       "        text-align: right;\n",
       "    }\n",
       "</style>\n",
       "<table border=\"1\" class=\"dataframe\">\n",
       "  <thead>\n",
       "    <tr style=\"text-align: right;\">\n",
       "      <th></th>\n",
       "      <th>Cell</th>\n",
       "      <th>Birth</th>\n",
       "      <th>Death</th>\n",
       "      <th>Sizes</th>\n",
       "      <th>Center of Mass X</th>\n",
       "      <th>Center of Mass Y</th>\n",
       "      <th>Angle of Major Axis</th>\n",
       "      <th>Length Major Axis</th>\n",
       "      <th>Length Minor Axis</th>\n",
       "      <th>Aspect Ratio</th>\n",
       "    </tr>\n",
       "  </thead>\n",
       "  <tbody>\n",
       "    <tr>\n",
       "      <th>0</th>\n",
       "      <td>1</td>\n",
       "      <td>0</td>\n",
       "      <td>9</td>\n",
       "      <td>[401, 393, 401, 398, 397, 398, 399, 412, 408, ...</td>\n",
       "      <td>[135.59102244389027, 135.49872773536896, 135.4...</td>\n",
       "      <td>[65.38653366583542, 65.29516539440203, 65.1122...</td>\n",
       "      <td>[-107.21375630356144, -102.10877855983844, -95...</td>\n",
       "      <td>[23.871318315629164, 23.466332130723742, 23.77...</td>\n",
       "      <td>[21.494202948182295, 21.463424948954945, 21.61...</td>\n",
       "      <td>[1.110593324775874, 1.093317221577273, 1.10013...</td>\n",
       "    </tr>\n",
       "    <tr>\n",
       "      <th>1</th>\n",
       "      <td>2</td>\n",
       "      <td>0</td>\n",
       "      <td>9</td>\n",
       "      <td>[47, 79, 104, 136, 159, 184, 211, 230, 261, 282]</td>\n",
       "      <td>[149.2340425531915, 149.50632911392404, 150.26...</td>\n",
       "      <td>[58.59574468085106, 57.53164556962025, 57.0769...</td>\n",
       "      <td>[80.38722371557999, -106.12293327543468, -177....</td>\n",
       "      <td>[8.161945375916446, 10.43912538778473, 11.9058...</td>\n",
       "      <td>[7.511609401630607, 9.778709941314455, 11.2402...</td>\n",
       "      <td>[1.0865774482555848, 1.0675360503004654, 1.059...</td>\n",
       "    </tr>\n",
       "    <tr>\n",
       "      <th>2</th>\n",
       "      <td>3</td>\n",
       "      <td>0</td>\n",
       "      <td>9</td>\n",
       "      <td>[274, 279, 282, 293, 283, 290, 299, 301, 303, ...</td>\n",
       "      <td>[172.05109489051094, 172.4336917562724, 172.42...</td>\n",
       "      <td>[68.78467153284672, 68.7921146953405, 68.73758...</td>\n",
       "      <td>[-32.01921602117548, -47.89402155691223, -47.3...</td>\n",
       "      <td>[21.93728694822487, 21.738524980576326, 22.109...</td>\n",
       "      <td>[16.033563715618303, 16.505810073756415, 16.39...</td>\n",
       "      <td>[1.368210295435178, 1.3170226049759122, 1.3489...</td>\n",
       "    </tr>\n",
       "    <tr>\n",
       "      <th>3</th>\n",
       "      <td>4</td>\n",
       "      <td>0</td>\n",
       "      <td>9</td>\n",
       "      <td>[364, 364, 359, 348, 342, 347, 359, 359, 361, ...</td>\n",
       "      <td>[154.7445054945055, 154.62912087912088, 154.50...</td>\n",
       "      <td>[71.30494505494505, 71.3076923076923, 71.90529...</td>\n",
       "      <td>[-51.93605043596252, -62.77918804335605, -78.2...</td>\n",
       "      <td>[23.390653200915636, 23.360709233037543, 23.13...</td>\n",
       "      <td>[19.978550288874267, 20.01364296123854, 19.889...</td>\n",
       "      <td>[1.1707883136015886, 1.167239231672187, 1.1630...</td>\n",
       "    </tr>\n",
       "    <tr>\n",
       "      <th>4</th>\n",
       "      <td>5</td>\n",
       "      <td>0</td>\n",
       "      <td>9</td>\n",
       "      <td>[295, 306, 294, 302, 309, 320, 330, 343, 347, ...</td>\n",
       "      <td>[118.59322033898304, 118.18300653594771, 118.1...</td>\n",
       "      <td>[75.25762711864407, 74.47385620915033, 74.3333...</td>\n",
       "      <td>[62.29733695766183, 70.73165268686577, 83.1868...</td>\n",
       "      <td>[22.65075521545737, 22.928116579862255, 22.633...</td>\n",
       "      <td>[16.640561378178162, 17.095165467401184, 16.61...</td>\n",
       "      <td>[1.3611773485695478, 1.3412047179995972, 1.362...</td>\n",
       "    </tr>\n",
       "    <tr>\n",
       "      <th>...</th>\n",
       "      <td>...</td>\n",
       "      <td>...</td>\n",
       "      <td>...</td>\n",
       "      <td>...</td>\n",
       "      <td>...</td>\n",
       "      <td>...</td>\n",
       "      <td>...</td>\n",
       "      <td>...</td>\n",
       "      <td>...</td>\n",
       "      <td>...</td>\n",
       "    </tr>\n",
       "    <tr>\n",
       "      <th>135</th>\n",
       "      <td>136</td>\n",
       "      <td>8</td>\n",
       "      <td>9</td>\n",
       "      <td>[0, 0, 0, 0, 0, 0, 0, 0, 103, 138]</td>\n",
       "      <td>[0, 0, 0, 0, 0, 0, 0, 0, 422.1456310679612, 42...</td>\n",
       "      <td>[0, 0, 0, 0, 0, 0, 0, 0, 515.4563106796116, 51...</td>\n",
       "      <td>[0, 0, 0, 0, 0, 0, 0, 0, 173.66376180025594, 1...</td>\n",
       "      <td>[0, 0, 0, 0, 0, 0, 0, 0, 14.340910923015496, 1...</td>\n",
       "      <td>[0, 0, 0, 0, 0, 0, 0, 0, 9.41650972464972, 11....</td>\n",
       "      <td>[0, 0, 0, 0, 0, 0, 0, 0, 1.5229539757682307, 1...</td>\n",
       "    </tr>\n",
       "    <tr>\n",
       "      <th>136</th>\n",
       "      <td>137</td>\n",
       "      <td>9</td>\n",
       "      <td>9</td>\n",
       "      <td>[0, 0, 0, 0, 0, 0, 0, 0, 0, 43]</td>\n",
       "      <td>[0, 0, 0, 0, 0, 0, 0, 0, 0, 166.5581395348837]</td>\n",
       "      <td>[0, 0, 0, 0, 0, 0, 0, 0, 0, 77.18604651162791]</td>\n",
       "      <td>[0, 0, 0, 0, 0, 0, 0, 0, 0, 162.5140662211678]</td>\n",
       "      <td>[0, 0, 0, 0, 0, 0, 0, 0, 0, 7.733525988380188]</td>\n",
       "      <td>[0, 0, 0, 0, 0, 0, 0, 0, 0, 7.306143286193354]</td>\n",
       "      <td>[0, 0, 0, 0, 0, 0, 0, 0, 0, 1.058496348270978]</td>\n",
       "    </tr>\n",
       "    <tr>\n",
       "      <th>137</th>\n",
       "      <td>138</td>\n",
       "      <td>9</td>\n",
       "      <td>9</td>\n",
       "      <td>[0, 0, 0, 0, 0, 0, 0, 0, 0, 74]</td>\n",
       "      <td>[0, 0, 0, 0, 0, 0, 0, 0, 0, 419.13513513513516]</td>\n",
       "      <td>[0, 0, 0, 0, 0, 0, 0, 0, 0, 312.4054054054054]</td>\n",
       "      <td>[0, 0, 0, 0, 0, 0, 0, 0, 0, 23.489472963507403]</td>\n",
       "      <td>[0, 0, 0, 0, 0, 0, 0, 0, 0, 10.36090422364958]</td>\n",
       "      <td>[0, 0, 0, 0, 0, 0, 0, 0, 0, 9.30116742678116]</td>\n",
       "      <td>[0, 0, 0, 0, 0, 0, 0, 0, 0, 1.1139358908664612]</td>\n",
       "    </tr>\n",
       "    <tr>\n",
       "      <th>138</th>\n",
       "      <td>139</td>\n",
       "      <td>9</td>\n",
       "      <td>9</td>\n",
       "      <td>[0, 0, 0, 0, 0, 0, 0, 0, 0, 70]</td>\n",
       "      <td>[0, 0, 0, 0, 0, 0, 0, 0, 0, 405.45714285714286]</td>\n",
       "      <td>[0, 0, 0, 0, 0, 0, 0, 0, 0, 330.2857142857143]</td>\n",
       "      <td>[0, 0, 0, 0, 0, 0, 0, 0, 0, 136.83748501126885]</td>\n",
       "      <td>[0, 0, 0, 0, 0, 0, 0, 0, 0, 11.56972999269042]</td>\n",
       "      <td>[0, 0, 0, 0, 0, 0, 0, 0, 0, 8.09210322757453]</td>\n",
       "      <td>[0, 0, 0, 0, 0, 0, 0, 0, 0, 1.4297556107867706]</td>\n",
       "    </tr>\n",
       "    <tr>\n",
       "      <th>139</th>\n",
       "      <td>140</td>\n",
       "      <td>9</td>\n",
       "      <td>9</td>\n",
       "      <td>[0, 0, 0, 0, 0, 0, 0, 0, 0, 45]</td>\n",
       "      <td>[0, 0, 0, 0, 0, 0, 0, 0, 0, 565.6]</td>\n",
       "      <td>[0, 0, 0, 0, 0, 0, 0, 0, 0, 368.7111111111111]</td>\n",
       "      <td>[0, 0, 0, 0, 0, 0, 0, 0, 0, -87.1217910236711]</td>\n",
       "      <td>[0, 0, 0, 0, 0, 0, 0, 0, 0, 8.8887681888433]</td>\n",
       "      <td>[0, 0, 0, 0, 0, 0, 0, 0, 0, 6.842816928674241]</td>\n",
       "      <td>[0, 0, 0, 0, 0, 0, 0, 0, 0, 1.2989925467091887]</td>\n",
       "    </tr>\n",
       "  </tbody>\n",
       "</table>\n",
       "<p>140 rows × 10 columns</p>\n",
       "</div>"
      ],
      "text/plain": [
       "     Cell  Birth  Death                                              Sizes  \\\n",
       "0       1      0      9  [401, 393, 401, 398, 397, 398, 399, 412, 408, ...   \n",
       "1       2      0      9   [47, 79, 104, 136, 159, 184, 211, 230, 261, 282]   \n",
       "2       3      0      9  [274, 279, 282, 293, 283, 290, 299, 301, 303, ...   \n",
       "3       4      0      9  [364, 364, 359, 348, 342, 347, 359, 359, 361, ...   \n",
       "4       5      0      9  [295, 306, 294, 302, 309, 320, 330, 343, 347, ...   \n",
       "..    ...    ...    ...                                                ...   \n",
       "135   136      8      9                 [0, 0, 0, 0, 0, 0, 0, 0, 103, 138]   \n",
       "136   137      9      9                    [0, 0, 0, 0, 0, 0, 0, 0, 0, 43]   \n",
       "137   138      9      9                    [0, 0, 0, 0, 0, 0, 0, 0, 0, 74]   \n",
       "138   139      9      9                    [0, 0, 0, 0, 0, 0, 0, 0, 0, 70]   \n",
       "139   140      9      9                    [0, 0, 0, 0, 0, 0, 0, 0, 0, 45]   \n",
       "\n",
       "                                      Center of Mass X  \\\n",
       "0    [135.59102244389027, 135.49872773536896, 135.4...   \n",
       "1    [149.2340425531915, 149.50632911392404, 150.26...   \n",
       "2    [172.05109489051094, 172.4336917562724, 172.42...   \n",
       "3    [154.7445054945055, 154.62912087912088, 154.50...   \n",
       "4    [118.59322033898304, 118.18300653594771, 118.1...   \n",
       "..                                                 ...   \n",
       "135  [0, 0, 0, 0, 0, 0, 0, 0, 422.1456310679612, 42...   \n",
       "136     [0, 0, 0, 0, 0, 0, 0, 0, 0, 166.5581395348837]   \n",
       "137    [0, 0, 0, 0, 0, 0, 0, 0, 0, 419.13513513513516]   \n",
       "138    [0, 0, 0, 0, 0, 0, 0, 0, 0, 405.45714285714286]   \n",
       "139                 [0, 0, 0, 0, 0, 0, 0, 0, 0, 565.6]   \n",
       "\n",
       "                                      Center of Mass Y  \\\n",
       "0    [65.38653366583542, 65.29516539440203, 65.1122...   \n",
       "1    [58.59574468085106, 57.53164556962025, 57.0769...   \n",
       "2    [68.78467153284672, 68.7921146953405, 68.73758...   \n",
       "3    [71.30494505494505, 71.3076923076923, 71.90529...   \n",
       "4    [75.25762711864407, 74.47385620915033, 74.3333...   \n",
       "..                                                 ...   \n",
       "135  [0, 0, 0, 0, 0, 0, 0, 0, 515.4563106796116, 51...   \n",
       "136     [0, 0, 0, 0, 0, 0, 0, 0, 0, 77.18604651162791]   \n",
       "137     [0, 0, 0, 0, 0, 0, 0, 0, 0, 312.4054054054054]   \n",
       "138     [0, 0, 0, 0, 0, 0, 0, 0, 0, 330.2857142857143]   \n",
       "139     [0, 0, 0, 0, 0, 0, 0, 0, 0, 368.7111111111111]   \n",
       "\n",
       "                                   Angle of Major Axis  \\\n",
       "0    [-107.21375630356144, -102.10877855983844, -95...   \n",
       "1    [80.38722371557999, -106.12293327543468, -177....   \n",
       "2    [-32.01921602117548, -47.89402155691223, -47.3...   \n",
       "3    [-51.93605043596252, -62.77918804335605, -78.2...   \n",
       "4    [62.29733695766183, 70.73165268686577, 83.1868...   \n",
       "..                                                 ...   \n",
       "135  [0, 0, 0, 0, 0, 0, 0, 0, 173.66376180025594, 1...   \n",
       "136     [0, 0, 0, 0, 0, 0, 0, 0, 0, 162.5140662211678]   \n",
       "137    [0, 0, 0, 0, 0, 0, 0, 0, 0, 23.489472963507403]   \n",
       "138    [0, 0, 0, 0, 0, 0, 0, 0, 0, 136.83748501126885]   \n",
       "139     [0, 0, 0, 0, 0, 0, 0, 0, 0, -87.1217910236711]   \n",
       "\n",
       "                                     Length Major Axis  \\\n",
       "0    [23.871318315629164, 23.466332130723742, 23.77...   \n",
       "1    [8.161945375916446, 10.43912538778473, 11.9058...   \n",
       "2    [21.93728694822487, 21.738524980576326, 22.109...   \n",
       "3    [23.390653200915636, 23.360709233037543, 23.13...   \n",
       "4    [22.65075521545737, 22.928116579862255, 22.633...   \n",
       "..                                                 ...   \n",
       "135  [0, 0, 0, 0, 0, 0, 0, 0, 14.340910923015496, 1...   \n",
       "136     [0, 0, 0, 0, 0, 0, 0, 0, 0, 7.733525988380188]   \n",
       "137     [0, 0, 0, 0, 0, 0, 0, 0, 0, 10.36090422364958]   \n",
       "138     [0, 0, 0, 0, 0, 0, 0, 0, 0, 11.56972999269042]   \n",
       "139       [0, 0, 0, 0, 0, 0, 0, 0, 0, 8.8887681888433]   \n",
       "\n",
       "                                     Length Minor Axis  \\\n",
       "0    [21.494202948182295, 21.463424948954945, 21.61...   \n",
       "1    [7.511609401630607, 9.778709941314455, 11.2402...   \n",
       "2    [16.033563715618303, 16.505810073756415, 16.39...   \n",
       "3    [19.978550288874267, 20.01364296123854, 19.889...   \n",
       "4    [16.640561378178162, 17.095165467401184, 16.61...   \n",
       "..                                                 ...   \n",
       "135  [0, 0, 0, 0, 0, 0, 0, 0, 9.41650972464972, 11....   \n",
       "136     [0, 0, 0, 0, 0, 0, 0, 0, 0, 7.306143286193354]   \n",
       "137      [0, 0, 0, 0, 0, 0, 0, 0, 0, 9.30116742678116]   \n",
       "138      [0, 0, 0, 0, 0, 0, 0, 0, 0, 8.09210322757453]   \n",
       "139     [0, 0, 0, 0, 0, 0, 0, 0, 0, 6.842816928674241]   \n",
       "\n",
       "                                          Aspect Ratio  \n",
       "0    [1.110593324775874, 1.093317221577273, 1.10013...  \n",
       "1    [1.0865774482555848, 1.0675360503004654, 1.059...  \n",
       "2    [1.368210295435178, 1.3170226049759122, 1.3489...  \n",
       "3    [1.1707883136015886, 1.167239231672187, 1.1630...  \n",
       "4    [1.3611773485695478, 1.3412047179995972, 1.362...  \n",
       "..                                                 ...  \n",
       "135  [0, 0, 0, 0, 0, 0, 0, 0, 1.5229539757682307, 1...  \n",
       "136     [0, 0, 0, 0, 0, 0, 0, 0, 0, 1.058496348270978]  \n",
       "137    [0, 0, 0, 0, 0, 0, 0, 0, 0, 1.1139358908664612]  \n",
       "138    [0, 0, 0, 0, 0, 0, 0, 0, 0, 1.4297556107867706]  \n",
       "139    [0, 0, 0, 0, 0, 0, 0, 0, 0, 1.2989925467091887]  \n",
       "\n",
       "[140 rows x 10 columns]"
      ]
     },
     "execution_count": 24,
     "metadata": {},
     "output_type": "execute_result"
    }
   ],
   "source": [
    "cellData = getCellStatistics(cp_masks)\n",
    "cellData"
   ]
  },
  {
   "cell_type": "code",
   "execution_count": 25,
   "metadata": {},
   "outputs": [
    {
     "data": {
      "text/plain": [
       "(140, 10)"
      ]
     },
     "execution_count": 25,
     "metadata": {},
     "output_type": "execute_result"
    }
   ],
   "source": [
    "X = cellData[\"Sizes\"].to_list()\n",
    "\n",
    "X = np.array(X)\n",
    "X.shape\n"
   ]
  },
  {
   "cell_type": "code",
   "execution_count": 31,
   "metadata": {},
   "outputs": [],
   "source": [
    "kmeans = KMeans(n_clusters=7, random_state=0).fit(X)"
   ]
  },
  {
   "cell_type": "code",
   "execution_count": 32,
   "metadata": {},
   "outputs": [
    {
     "data": {
      "text/plain": [
       "array([4, 1, 3, 4, 3, 1, 4, 5, 0, 4, 5, 3, 4, 0, 3, 1, 3, 4, 3, 4, 0, 4,\n",
       "       4, 4, 3, 1, 5, 3, 4, 4, 3, 5, 4, 4, 5, 5, 3, 0, 0, 1, 0, 4, 3, 4,\n",
       "       5, 3, 4, 1, 5, 1, 3, 4, 3, 4, 4, 1, 5, 1, 3, 0, 3, 3, 4, 4, 4, 1,\n",
       "       4, 0, 1, 4, 4, 3, 3, 3, 0, 1, 4, 4, 4, 3, 4, 4, 5, 3, 4, 4, 3, 5,\n",
       "       0, 4, 4, 4, 1, 4, 3, 5, 4, 4, 3, 1, 1, 6, 1, 3, 1, 3, 6, 1, 6, 6,\n",
       "       6, 6, 6, 6, 6, 6, 6, 6, 6, 6, 2, 2, 2, 2, 2, 2, 2, 2, 2, 2, 2, 2,\n",
       "       2, 2, 2, 2, 2, 2, 2, 2], dtype=int32)"
      ]
     },
     "execution_count": 32,
     "metadata": {},
     "output_type": "execute_result"
    }
   ],
   "source": [
    "new_data = []\n",
    "for label in kmeans.labels_:\n",
    "    \n"
   ]
  },
  {
   "cell_type": "code",
   "execution_count": 33,
   "metadata": {},
   "outputs": [
    {
     "data": {
      "image/png": "[encoded data removed]",
      "text/plain": [
       "<Figure size 432x288 with 1 Axes>"
      ]
     },
     "metadata": {
      "needs_background": "light"
     },
     "output_type": "display_data"
    }
   ],
   "source": [
    "plt.imshow(X); plt.show()"
   ]
  },
  {
   "cell_type": "code",
   "execution_count": 11,
   "metadata": {},
   "outputs": [
    {
     "data": {
      "text/plain": [
       "{'Mean Diameter': 0,\n",
       " 'Flow Threshold': 0.4,\n",
       " 'Cell Probability Threshold': 0,\n",
       " 'Mating Cells': False,\n",
       " 'Sporulating Cells': False,\n",
       " 'Time Series': False}"
      ]
     },
     "execution_count": 11,
     "metadata": {},
     "output_type": "execute_result"
    }
   ],
   "source": [
    "Artilife.hyperparams"
   ]
  },
  {
   "cell_type": "code",
   "execution_count": 12,
   "metadata": {},
   "outputs": [
    {
     "data": {
      "text/plain": [
       "{'Mean Diameter': 0,\n",
       " 'Flow Threshold': 0.4,\n",
       " 'Cell Probability Threshold': 0,\n",
       " 'Mating Cells': False,\n",
       " 'Sporulating Cells': False,\n",
       " 'Time Series': True}"
      ]
     },
     "execution_count": 12,
     "metadata": {},
     "output_type": "execute_result"
    }
   ],
   "source": [
    "myParams = Artilife.hyperparams.copy()\n",
    "myParams[\"Time Series\"] = True\n",
    "myParams"
   ]
  },
  {
   "cell_type": "code",
   "execution_count": 15,
   "metadata": {},
   "outputs": [
    {
     "name": "stdout",
     "output_type": "stream",
     "text": [
      "class params {'Mean Diameter': None, 'Flow Threshold': 0.4, 'Cell Probability Threshold': 0, 'Mating Cells': False, 'Sporulating Cells': False, 'Time Series': True}\n",
      "Running Artilife\n"
     ]
    },
    {
     "ename": "NameError",
     "evalue": "name 'Mask2' is not defined",
     "output_type": "error",
     "traceback": [
      "\u001b[0;31m---------------------------------------------------------------------------\u001b[0m",
      "\u001b[0;31mNameError\u001b[0m                                 Traceback (most recent call last)",
      "\u001b[1;32m/Users/berk/code/budNET_gui/clustering.ipynb Cell 5\u001b[0m in \u001b[0;36m<cell line: 2>\u001b[0;34m()\u001b[0m\n\u001b[1;32m      <a href='vscode-notebook-cell:/Users/berk/code/budNET_gui/clustering.ipynb#W4sZmlsZQ%3D%3D?line=0'>1</a>\u001b[0m weight_path \u001b[39m=\u001b[39m \u001b[39m\"\u001b[39m\u001b[39mmodels/artilife/artilife\u001b[39m\u001b[39m\"\u001b[39m\n\u001b[0;32m----> <a href='vscode-notebook-cell:/Users/berk/code/budNET_gui/clustering.ipynb#W4sZmlsZQ%3D%3D?line=1'>2</a>\u001b[0m return_dict \u001b[39m=\u001b[39m Artilife\u001b[39m.\u001b[39;49mrun(phase_ims, myParams, weight_path)\n",
      "File \u001b[0;32m~/code/budNET_gui/models/artilife/model.py:269\u001b[0m, in \u001b[0;36mArtilife.run\u001b[0;34m(cls, ims, params, weights)\u001b[0m\n\u001b[1;32m    267\u001b[0m cellData \u001b[39m=\u001b[39m \u001b[39mNone\u001b[39;00m\n\u001b[1;32m    268\u001b[0m \u001b[39mif\u001b[39;00m model\u001b[39m.\u001b[39mparams[\u001b[39m\"\u001b[39m\u001b[39mTime Series\u001b[39m\u001b[39m\"\u001b[39m]:\n\u001b[0;32m--> 269\u001b[0m     model\u001b[39m.\u001b[39mmasks, cellData \u001b[39m=\u001b[39m track\u001b[39m.\u001b[39;49mtrackYeasts(model\u001b[39m.\u001b[39;49mmasks)\n\u001b[1;32m    270\u001b[0m     model\u001b[39m.\u001b[39maddSmallCells(ims, cellData) \u001b[39m# this modifies cellData\u001b[39;00m\n\u001b[1;32m    272\u001b[0m \u001b[39mreturn\u001b[39;00m {\u001b[39m\"\u001b[39m\u001b[39martilife\u001b[39m\u001b[39m\"\u001b[39m: (model\u001b[39m.\u001b[39mmasks, model\u001b[39m.\u001b[39mcellprobs), \n\u001b[1;32m    273\u001b[0m         \u001b[39m\"\u001b[39m\u001b[39mmating\u001b[39m\u001b[39m\"\u001b[39m: (model\u001b[39m.\u001b[39mmatMasks, model\u001b[39m.\u001b[39mmatprobs),\n\u001b[1;32m    274\u001b[0m         \u001b[39m\"\u001b[39m\u001b[39mtetrads\u001b[39m\u001b[39m\"\u001b[39m: (model\u001b[39m.\u001b[39mtetraMasks, model\u001b[39m.\u001b[39mtetraprobs)\n\u001b[1;32m    275\u001b[0m         }, cellData\n",
      "File \u001b[0;32m~/code/budNET_gui/models/track.py:144\u001b[0m, in \u001b[0;36mtrackYeasts\u001b[0;34m(ims)\u001b[0m\n\u001b[1;32m    140\u001b[0m         cell_exists[\u001b[39m0\u001b[39m,itt2]\u001b[39m=\u001b[39mnp\u001b[39m.\u001b[39mmax(np\u001b[39m.\u001b[39mnonzero(all_ob[itt2,:]\u001b[39m==\u001b[39m\u001b[39m0\u001b[39m)) \u001b[39m+\u001b[39m \u001b[39m1\u001b[39m\n\u001b[1;32m    142\u001b[0m Mask2 \u001b[39m=\u001b[39m np\u001b[39m.\u001b[39marray([Mask2[:,:,i] \u001b[39mfor\u001b[39;00m i \u001b[39min\u001b[39;00m \u001b[39mrange\u001b[39m(Mask2\u001b[39m.\u001b[39mshape[\u001b[39m-\u001b[39m\u001b[39m1\u001b[39m])])\n\u001b[0;32m--> 144\u001b[0m cellData \u001b[39m=\u001b[39m getCellStatistics(Mask2)\n\u001b[1;32m    145\u001b[0m \u001b[39mreturn\u001b[39;00m Mask2, cellData\n",
      "File \u001b[0;32m~/code/budNET_gui/models/track.py:154\u001b[0m, in \u001b[0;36mgetCellStatistics\u001b[0;34m(masks)\u001b[0m\n\u001b[1;32m    152\u001b[0m \u001b[39mfor\u001b[39;00m cellVal \u001b[39min\u001b[39;00m np\u001b[39m.\u001b[39munique(masks):\n\u001b[1;32m    153\u001b[0m     \u001b[39mif\u001b[39;00m cellVal \u001b[39m>\u001b[39m \u001b[39m0\u001b[39m:\n\u001b[0;32m--> 154\u001b[0m         birthIndex, deathIndex \u001b[39m=\u001b[39m getBirthFrame(masks, cellVal), getDeathFrame(Mask2, cellVal)\n\u001b[1;32m    155\u001b[0m         sizes \u001b[39m=\u001b[39m getSizes(masks, cellVal)\n\u001b[1;32m    156\u001b[0m         data[\u001b[39m\"\u001b[39m\u001b[39mCell\u001b[39m\u001b[39m\"\u001b[39m]\u001b[39m.\u001b[39mappend(cellVal)\n",
      "\u001b[0;31mNameError\u001b[0m: name 'Mask2' is not defined"
     ]
    }
   ],
   "source": [
    "weight_path = \"models/artilife/artilife\"\n",
    "return_dict = Artilife.run(phase_ims, myParams, weight_path)"
   ]
  }
 ],
 "metadata": {
  "kernelspec": {
   "display_name": "budNET",
   "language": "python",
   "name": "python3"
  },
  "language_info": {
   "codemirror_mode": {
    "name": "ipython",
    "version": 3
   },
   "file_extension": ".py",
   "mimetype": "text/x-python",
   "name": "python",
   "nbconvert_exporter": "python",
   "pygments_lexer": "ipython3",
   "version": "3.10.0"
  },
  "orig_nbformat": 4,
  "vscode": {
   "interpreter": {
    "hash": "071dda8518d0af3df4c30fd93ebcd1d372dc4616808d29e48fcd6d0065c4b807"
   }
  }
 },
 "nbformat": 4,
 "nbformat_minor": 2
}
