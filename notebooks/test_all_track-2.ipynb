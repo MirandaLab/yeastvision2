{
 "cells": [
  {
   "cell_type": "code",
   "execution_count": 5,
   "metadata": {},
   "outputs": [
    {
     "ename": "ModuleNotFoundError",
     "evalue": "No module named 'yeastvision.track.mat'",
     "output_type": "error",
     "traceback": [
      "\u001b[0;31m---------------------------------------------------------------------------\u001b[0m",
      "\u001b[0;31mModuleNotFoundError\u001b[0m                       Traceback (most recent call last)",
      "\u001b[1;32m/Users/berk/code/yeastvision/notebooks/test_all_track-2.ipynb Cell 1\u001b[0m in \u001b[0;36m<cell line: 4>\u001b[0;34m()\u001b[0m\n\u001b[1;32m      <a href='vscode-notebook-cell:/Users/berk/code/yeastvision/notebooks/test_all_track-2.ipynb#W0sZmlsZQ%3D%3D?line=1'>2</a>\u001b[0m \u001b[39mfrom\u001b[39;00m \u001b[39mskimage\u001b[39;00m\u001b[39m.\u001b[39;00m\u001b[39mio\u001b[39;00m \u001b[39mimport\u001b[39;00m imread, imsave\n\u001b[1;32m      <a href='vscode-notebook-cell:/Users/berk/code/yeastvision/notebooks/test_all_track-2.ipynb#W0sZmlsZQ%3D%3D?line=2'>3</a>\u001b[0m \u001b[39mimport\u001b[39;00m \u001b[39mglob\u001b[39;00m\n\u001b[0;32m----> <a href='vscode-notebook-cell:/Users/berk/code/yeastvision/notebooks/test_all_track-2.ipynb#W0sZmlsZQ%3D%3D?line=3'>4</a>\u001b[0m \u001b[39mimport\u001b[39;00m \u001b[39myeastvision\u001b[39;00m\u001b[39m.\u001b[39;00m\u001b[39mtrack\u001b[39;00m\u001b[39m.\u001b[39;00m\u001b[39mmat\u001b[39;00m\n",
      "\u001b[0;31mModuleNotFoundError\u001b[0m: No module named 'yeastvision.track.mat'"
     ]
    }
   ],
   "source": [
    "import numpy as np\n",
    "from skimage.io import imread, imsave\n",
    "import glob\n",
    "import yeastvision.track.mat\n"
   ]
  },
  {
   "cell_type": "code",
   "execution_count": 2,
   "metadata": {},
   "outputs": [
    {
     "data": {
      "text/plain": [
       "(101, 101, 101)"
      ]
     },
     "execution_count": 2,
     "metadata": {},
     "output_type": "execute_result"
    }
   ],
   "source": [
    "im_paths = sorted(glob.glob(\"test_images/Pos2_MAT/*000.tif\"))\n",
    "cp_masks_paths = sorted(glob.glob(\"test_images/Pos2_MAT/*masks.tif\"))\n",
    "ims = [imread(p) for p in im_paths]\n",
    "mating_masks = [imread(m) for m in cp_masks_paths]\n",
    "artilife_paths = sorted(glob.glob(\"test_images/Pos2_ARTI/*cp_masks.tif\"))\n",
    "cp_masks = [imread(p) for p in artilife_paths][:101]\n",
    "len(ims), len(mating_masks), len(cp_masks)"
   ]
  },
  {
   "cell_type": "code",
   "execution_count": null,
   "metadata": {},
   "outputs": [],
   "source": []
  }
 ],
 "metadata": {
  "kernelspec": {
   "display_name": "budNET",
   "language": "python",
   "name": "python3"
  },
  "language_info": {
   "codemirror_mode": {
    "name": "ipython",
    "version": 3
   },
   "file_extension": ".py",
   "mimetype": "text/x-python",
   "name": "python",
   "nbconvert_exporter": "python",
   "pygments_lexer": "ipython3",
   "version": "3.10.0"
  },
  "orig_nbformat": 4
 },
 "nbformat": 4,
 "nbformat_minor": 2
}
