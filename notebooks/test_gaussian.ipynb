{
 "cells": [
  {
   "cell_type": "code",
   "execution_count": null,
   "metadata": {},
   "outputs": [],
   "source": [
    "import numpy as np\n",
    "from scipy.ndimage import gaussian_filter\n",
    "from skimage.measure import regionprops\n",
    "from scipy.stats import multivariate_normal\n",
    "from skimage.io import imread\n",
    "import matplotlib.pyplot as plt"
   ]
  },
  {
   "cell_type": "code",
   "execution_count": null,
   "metadata": {},
   "outputs": [],
   "source": [
    "def OAM_220820_Gaussian_nuclear_fit(IG, peak_cutoff, x_size, y_size, ccell):\n",
    "    p_nuc = np.zeros(IG.shape)\n",
    "    # -----gaussian fit--------------------\n",
    "    I_gf = gaussian_filter(IG, sigma=2)\n",
    "    nuc_tmp = I_gf * ccell\n",
    "    \n",
    "    Amp = np.max(nuc_tmp)\n",
    "    props = regionprops(nuc_tmp > Amp * peak_cutoff, intensity_image=nuc_tmp)\n",
    "    if len(props) > 0:\n",
    "        centroid = props[0].centroid\n",
    "        xcenter = int(centroid[1])\n",
    "        ycenter = int(centroid[0])\n",
    "        wind = 5\n",
    "        xcoord = np.arange(max(1, xcenter - wind), min(y_size, xcenter + wind + 1))\n",
    "        ycoord = np.arange(max(1, ycenter - wind), min(x_size, ycenter + wind + 1))\n",
    "        X, Y = np.meshgrid(xcoord, ycoord)\n",
    "        \n",
    "        ok_size = wind * 2 + 1\n",
    "        if X.shape == (ok_size, ok_size) and Y.shape == (ok_size, ok_size):\n",
    "            In_part = nuc_tmp[Y, X]\n",
    "            edge_med = np.median(np.concatenate((In_part[0, :], In_part[-1, :], In_part[:, 0], In_part[:, -1])))\n",
    "            x0 = xcenter\n",
    "            y0 = ycenter\n",
    "            mu = np.array([x0, y0])\n",
    "            best_fit_score = 1e9\n",
    "            best_fit_no = np.array([0, 0])\n",
    "            for jj in range(1, 26):\n",
    "                for jj2 in range(1, 26):\n",
    "                    limit_h = int(round(np.sqrt(jj * jj2)))\n",
    "                    for ii in range(-(limit_h - 1), limit_h, 2):\n",
    "                        Sigma = np.array([[jj, -ii], [-ii, jj2]])\n",
    "                        F = multivariate_normal.pdf(np.column_stack((X.flatten(), Y.flatten())), mean=mu, cov=Sigma)\n",
    "                        F = F.reshape(X.shape)\n",
    "                        Fmax = np.max(F)\n",
    "                        Z = (((Amp - edge_med) / Fmax) * F + edge_med)\n",
    "                        Z = Z * (In_part > 0)\n",
    "                        tmp_score = np.sum(np.abs(Z - In_part))\n",
    "                        if tmp_score < best_fit_score:\n",
    "                            best_fit_no = Sigma\n",
    "                            best_fit_score = tmp_score\n",
    "            \n",
    "            # ----------------- get the best solution------------------------\n",
    "            F = multivariate_normal.pdf(np.column_stack((X.flatten(), Y.flatten())), mean=mu, cov=best_fit_no)\n",
    "            F = F.reshape(X.shape)\n",
    "            Fmax = np.max(F)\n",
    "            Z = (((Amp - edge_med) / Fmax) * F + edge_med)\n",
    "            Z = Z * (In_part > 0)\n",
    "            # ---------------------------------------------------------------\n",
    "            p_nuc[Y.flatten(), X.flatten()] += (Z > (Amp * peak_cutoff)).astype(int)\n",
    "            # ---------------------------------------------------------------------\n",
    "            p_nuc = p_nuc.astype(float)\n",
    "    \n",
    "    return p_nuc\n"
   ]
  },
  {
   "cell_type": "code",
   "execution_count": null,
   "metadata": {},
   "outputs": [],
   "source": []
  }
 ],
 "metadata": {
  "language_info": {
   "name": "python"
  },
  "orig_nbformat": 4
 },
 "nbformat": 4,
 "nbformat_minor": 2
}
